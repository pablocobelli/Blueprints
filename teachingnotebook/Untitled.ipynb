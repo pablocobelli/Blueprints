{
 "metadata": {
  "name": "",
  "signature": "sha256:6e6b6cdb9cb5b9079284fb3359cbf32cd633cc089d0e0c5f7aab0db4bc8fd13d"
 },
 "nbformat": 3,
 "nbformat_minor": 0,
 "worksheets": [
  {
   "cells": [
    {
     "cell_type": "heading",
     "level": 1,
     "metadata": {},
     "source": [
      "Titulo del Notebook"
     ]
    },
    {
     "cell_type": "markdown",
     "metadata": {},
     "source": [
      "\n",
      "**Pablo Cobelli** - Departamento de F\u00edsica, FCEN-UBA, Argentina.  \n",
      "Materia - _\u00daltima actualizaci\u00f3n: Marzo de 2015._  "
     ]
    },
    {
     "cell_type": "markdown",
     "metadata": {},
     "source": [
      "**Este apunte tiene licencia [Creative Commons Attribution 4.0 International License](http://creativecommons.org/licenses/by/4.0/). **\n",
      "\n",
      "----"
     ]
    },
    {
     "cell_type": "heading",
     "level": 2,
     "metadata": {},
     "source": [
      "C\u00f3mo utilizar este documento"
     ]
    },
    {
     "cell_type": "markdown",
     "metadata": {},
     "source": [
      "\n",
      "Este documento es una gu\u00eda para ... empleando Python. \n",
      "\n",
      "Se emplean las librer\u00edas **[sympy](http://www.sympy.org)** (para el c\u00e1lculo simb\u00f3lico), **[numpy](http://www.numpy.org)** (para c\u00e1lculo num\u00e9rico) y **[matplotlib](http://www.matplotlib.org)** (para la representaci\u00f3n gr\u00e1fica de datos). \n",
      "\n",
      "Cada l\u00ednea de c\u00f3digo necesaria para el c\u00e1lculo del ajuste se representa en letras de tipo de m\u00e1quina de escribir (`como este texto`) y est\u00e1 precedida por la expresi\u00f3n \"`In [\u00b7]:`\", en azul. Por el contrario, las expresiones precedidas por \"`Out [\u00b7]:`\" representan la respuesta que Python nos d\u00e1 a las instrucciones que le pasamos.\n"
     ]
    }
   ],
   "metadata": {}
  }
 ]
}
